{
 "cells": [
  {
   "cell_type": "code",
   "execution_count": 7,
   "id": "c8899366",
   "metadata": {},
   "outputs": [],
   "source": [
    "import os\n",
    "import cv2\n",
    "import numpy as np\n",
    "import requests\n",
    "from tensorflow.keras.models import load_model"
   ]
  },
  {
   "cell_type": "code",
   "execution_count": 10,
   "id": "b7848d51",
   "metadata": {},
   "outputs": [],
   "source": [
    "MODEL_URL = (\n",
    "    \"https://github.com/AikagraGupta/DetectIT/\"\n",
    "    \"releases/download/v1.0.0/Meso4_DF_full.keras\"\n",
    ")\n",
    "MODEL_PATH = os.path.join(\"weights\", \"Meso4_DF_full.keras\")\n",
    "\n",
    "if not os.path.exists(MODEL_PATH):\n",
    "    os.makedirs(os.path.dirname(MODEL_PATH), exist_ok=True)\n",
    "    print(f\"Downloading model from {MODEL_URL} …\")\n",
    "    resp = requests.get(MODEL_URL, stream=True)\n",
    "    resp.raise_for_status()\n",
    "    with open(MODEL_PATH, \"wb\") as f:\n",
    "        for chunk in resp.iter_content(chunk_size=8192):\n",
    "            if chunk:\n",
    "                f.write(chunk)\n",
    "    print(\"Model downloaded.\")"
   ]
  },
  {
   "cell_type": "code",
   "execution_count": 9,
   "id": "a3cec6ae",
   "metadata": {},
   "outputs": [
    {
     "name": "stdout",
     "output_type": "stream",
     "text": [
      "Loaded Meso4 model.\n"
     ]
    }
   ],
   "source": [
    "model = load_model(MODEL_PATH, compile=False)\n",
    "print(\"Loaded Meso4 model.\")"
   ]
  },
  {
   "cell_type": "code",
   "execution_count": 11,
   "id": "fcea35b5",
   "metadata": {},
   "outputs": [],
   "source": [
    "def predict_video(video_path: str,\n",
    "                  model,\n",
    "                  num_samples: int = 30,\n",
    "                  target_size: tuple = (256, 256)):\n",
    "    cap = cv2.VideoCapture(video_path)\n",
    "    if not cap.isOpened():\n",
    "        raise IOError(f\"Cannot open video: {video_path}\")\n",
    "\n",
    "    total_frames = int(cap.get(cv2.CAP_PROP_FRAME_COUNT))\n",
    "    if total_frames <= 0:\n",
    "        raise ValueError(\"Video contains no frames\")\n",
    "\n",
    "    interval = max(1, total_frames // num_samples)\n",
    "    scores = []\n",
    "    idx = 0\n",
    "    taken = 0\n",
    "\n",
    "    while True:\n",
    "        ret, frame = cap.read()\n",
    "        if not ret:\n",
    "            break\n",
    "\n",
    "        if idx % interval == 0 and taken < num_samples:\n",
    "            \n",
    "            img = cv2.resize(frame, target_size)\n",
    "            img = cv2.cvtColor(img, cv2.COLOR_BGR2RGB)\n",
    "            img = img.astype(\"float32\") / 255.0\n",
    "            img = np.expand_dims(img, 0)  # shape (1, H, W, 3)\n",
    "\n",
    "            score = float(model.predict(img, verbose=0)[0][0])\n",
    "            scores.append(score)\n",
    "            taken += 1\n",
    "\n",
    "        idx += 1\n",
    "\n",
    "    cap.release()\n",
    "    if not scores:\n",
    "        raise ValueError(\"No frames sampled from video\")\n",
    "\n",
    "    avg_score = float(np.mean(scores))\n",
    "    label = \"real\" if avg_score >= 0.5 else \"deepfake\"\n",
    "    return label, avg_score, scores"
   ]
  },
  {
   "cell_type": "code",
   "execution_count": 12,
   "id": "b903d3c2",
   "metadata": {},
   "outputs": [
    {
     "name": "stdout",
     "output_type": "stream",
     "text": [
      "▶️ Processing video: face4.mkv\n",
      "▶️ Video‐level verdict: REAL (50.2% confidence)\n"
     ]
    }
   ],
   "source": [
    "video_file = \"face4.mkv\"\n",
    "if not os.path.exists(video_file):\n",
    "    raise FileNotFoundError(f\"{video_file} not found (cwd={os.getcwd()})\")\n",
    "\n",
    "print(f\"▶️ Processing video: {video_file}\")\n",
    "label, confidence, frame_scores = predict_video(video_file, model)\n",
    "print(f\"▶️ Video‐level verdict: {label.upper()} ({confidence*100:.1f}% confidence)\")"
   ]
  }
 ],
 "metadata": {
  "kernelspec": {
   "display_name": ".venv",
   "language": "python",
   "name": "python3"
  },
  "language_info": {
   "codemirror_mode": {
    "name": "ipython",
    "version": 3
   },
   "file_extension": ".py",
   "mimetype": "text/x-python",
   "name": "python",
   "nbconvert_exporter": "python",
   "pygments_lexer": "ipython3",
   "version": "3.12.8"
  }
 },
 "nbformat": 4,
 "nbformat_minor": 5
}
